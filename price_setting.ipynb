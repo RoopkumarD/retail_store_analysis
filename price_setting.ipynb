{
 "cells": [
  {
   "cell_type": "code",
   "execution_count": 169,
   "id": "b9175454-29fd-4905-85c0-d1113f4a64ec",
   "metadata": {},
   "outputs": [],
   "source": [
    "import pandas as pd\n",
    "import numpy as np"
   ]
  },
  {
   "cell_type": "code",
   "execution_count": 170,
   "id": "0aaf5ba4-4e4a-4838-9ddc-237bf924a80c",
   "metadata": {},
   "outputs": [],
   "source": [
    "df = pd.read_csv(\"other_data.csv\")"
   ]
  },
  {
   "cell_type": "code",
   "execution_count": 171,
   "id": "1460798e-a36a-43c6-81f6-1b3980044d2c",
   "metadata": {},
   "outputs": [
    {
     "data": {
      "text/html": [
       "<div>\n",
       "<style scoped>\n",
       "    .dataframe tbody tr th:only-of-type {\n",
       "        vertical-align: middle;\n",
       "    }\n",
       "\n",
       "    .dataframe tbody tr th {\n",
       "        vertical-align: top;\n",
       "    }\n",
       "\n",
       "    .dataframe thead th {\n",
       "        text-align: right;\n",
       "    }\n",
       "</style>\n",
       "<table border=\"1\" class=\"dataframe\">\n",
       "  <thead>\n",
       "    <tr style=\"text-align: right;\">\n",
       "      <th></th>\n",
       "      <th>InvoiceNo</th>\n",
       "      <th>Description</th>\n",
       "      <th>Size</th>\n",
       "      <th>Quantity</th>\n",
       "      <th>UnitPrice</th>\n",
       "      <th>Selling Price</th>\n",
       "      <th>PaymentMode</th>\n",
       "      <th>PaymentDate</th>\n",
       "      <th>PaymentTime</th>\n",
       "    </tr>\n",
       "  </thead>\n",
       "  <tbody>\n",
       "    <tr>\n",
       "      <th>0</th>\n",
       "      <td>1</td>\n",
       "      <td>Dark Green Half Sleeves Polo Mens T-Shirt</td>\n",
       "      <td>XL</td>\n",
       "      <td>1</td>\n",
       "      <td>400</td>\n",
       "      <td>560</td>\n",
       "      <td>Online</td>\n",
       "      <td>2025-03-25</td>\n",
       "      <td>12:31</td>\n",
       "    </tr>\n",
       "    <tr>\n",
       "      <th>1</th>\n",
       "      <td>1</td>\n",
       "      <td>Blue Faded Mens Jeans</td>\n",
       "      <td>30</td>\n",
       "      <td>1</td>\n",
       "      <td>900</td>\n",
       "      <td>1200</td>\n",
       "      <td>Online</td>\n",
       "      <td>2025-03-25</td>\n",
       "      <td>12:31</td>\n",
       "    </tr>\n",
       "    <tr>\n",
       "      <th>2</th>\n",
       "      <td>2</td>\n",
       "      <td>Gamcha Bath Towel</td>\n",
       "      <td>90</td>\n",
       "      <td>1</td>\n",
       "      <td>140</td>\n",
       "      <td>140</td>\n",
       "      <td>Cash</td>\n",
       "      <td>2025-03-25</td>\n",
       "      <td>15:30</td>\n",
       "    </tr>\n",
       "    <tr>\n",
       "      <th>3</th>\n",
       "      <td>3</td>\n",
       "      <td>Macho V Cut Mens Underwear</td>\n",
       "      <td>90</td>\n",
       "      <td>1</td>\n",
       "      <td>125</td>\n",
       "      <td>135</td>\n",
       "      <td>Online</td>\n",
       "      <td>2025-03-25</td>\n",
       "      <td>16:13</td>\n",
       "    </tr>\n",
       "    <tr>\n",
       "      <th>4</th>\n",
       "      <td>4</td>\n",
       "      <td>Rectangle Mosquito Net</td>\n",
       "      <td>6x6</td>\n",
       "      <td>1</td>\n",
       "      <td>150</td>\n",
       "      <td>180</td>\n",
       "      <td>Cash</td>\n",
       "      <td>2025-03-25</td>\n",
       "      <td>13:00</td>\n",
       "    </tr>\n",
       "    <tr>\n",
       "      <th>...</th>\n",
       "      <td>...</td>\n",
       "      <td>...</td>\n",
       "      <td>...</td>\n",
       "      <td>...</td>\n",
       "      <td>...</td>\n",
       "      <td>...</td>\n",
       "      <td>...</td>\n",
       "      <td>...</td>\n",
       "      <td>...</td>\n",
       "    </tr>\n",
       "    <tr>\n",
       "      <th>584</th>\n",
       "      <td>399</td>\n",
       "      <td>Sando Mens Vest</td>\n",
       "      <td>XL</td>\n",
       "      <td>1</td>\n",
       "      <td>260</td>\n",
       "      <td>280</td>\n",
       "      <td>Online</td>\n",
       "      <td>2025-04-26</td>\n",
       "      <td>21:13</td>\n",
       "    </tr>\n",
       "    <tr>\n",
       "      <th>585</th>\n",
       "      <td>399</td>\n",
       "      <td>Macho V Cut Mens Underwear</td>\n",
       "      <td>100</td>\n",
       "      <td>1</td>\n",
       "      <td>100</td>\n",
       "      <td>140</td>\n",
       "      <td>Online</td>\n",
       "      <td>2025-04-26</td>\n",
       "      <td>21:13</td>\n",
       "    </tr>\n",
       "    <tr>\n",
       "      <th>586</th>\n",
       "      <td>399</td>\n",
       "      <td>Pooja Brand Ladies Bra</td>\n",
       "      <td>38</td>\n",
       "      <td>1</td>\n",
       "      <td>140</td>\n",
       "      <td>155</td>\n",
       "      <td>Online</td>\n",
       "      <td>2025-04-26</td>\n",
       "      <td>21:13</td>\n",
       "    </tr>\n",
       "    <tr>\n",
       "      <th>587</th>\n",
       "      <td>399</td>\n",
       "      <td>Boxer Cotton Half Pant</td>\n",
       "      <td>XXL</td>\n",
       "      <td>1</td>\n",
       "      <td>180</td>\n",
       "      <td>250</td>\n",
       "      <td>Online</td>\n",
       "      <td>2025-04-26</td>\n",
       "      <td>21:13</td>\n",
       "    </tr>\n",
       "    <tr>\n",
       "      <th>588</th>\n",
       "      <td>399</td>\n",
       "      <td>Cotton Candy Half Sleeves Round Neck Cotton Me...</td>\n",
       "      <td>XXL</td>\n",
       "      <td>1</td>\n",
       "      <td>300</td>\n",
       "      <td>320</td>\n",
       "      <td>Online</td>\n",
       "      <td>2025-04-26</td>\n",
       "      <td>21:13</td>\n",
       "    </tr>\n",
       "  </tbody>\n",
       "</table>\n",
       "<p>589 rows × 9 columns</p>\n",
       "</div>"
      ],
      "text/plain": [
       "     InvoiceNo                                        Description Size  \\\n",
       "0            1          Dark Green Half Sleeves Polo Mens T-Shirt   XL   \n",
       "1            1                              Blue Faded Mens Jeans   30   \n",
       "2            2                                  Gamcha Bath Towel   90   \n",
       "3            3                         Macho V Cut Mens Underwear   90   \n",
       "4            4                             Rectangle Mosquito Net  6x6   \n",
       "..         ...                                                ...  ...   \n",
       "584        399                                    Sando Mens Vest   XL   \n",
       "585        399                         Macho V Cut Mens Underwear  100   \n",
       "586        399                             Pooja Brand Ladies Bra   38   \n",
       "587        399                             Boxer Cotton Half Pant  XXL   \n",
       "588        399  Cotton Candy Half Sleeves Round Neck Cotton Me...  XXL   \n",
       "\n",
       "     Quantity  UnitPrice  Selling Price PaymentMode PaymentDate PaymentTime  \n",
       "0           1        400            560      Online  2025-03-25       12:31  \n",
       "1           1        900           1200      Online  2025-03-25       12:31  \n",
       "2           1        140            140        Cash  2025-03-25       15:30  \n",
       "3           1        125            135      Online  2025-03-25       16:13  \n",
       "4           1        150            180        Cash  2025-03-25       13:00  \n",
       "..        ...        ...            ...         ...         ...         ...  \n",
       "584         1        260            280      Online  2025-04-26       21:13  \n",
       "585         1        100            140      Online  2025-04-26       21:13  \n",
       "586         1        140            155      Online  2025-04-26       21:13  \n",
       "587         1        180            250      Online  2025-04-26       21:13  \n",
       "588         1        300            320      Online  2025-04-26       21:13  \n",
       "\n",
       "[589 rows x 9 columns]"
      ]
     },
     "execution_count": 171,
     "metadata": {},
     "output_type": "execute_result"
    }
   ],
   "source": [
    "df"
   ]
  },
  {
   "cell_type": "code",
   "execution_count": 172,
   "id": "5ea8a825-9b70-4f47-9c29-29f0947b1f51",
   "metadata": {},
   "outputs": [],
   "source": [
    "df.loc[211, \"Description\"] = \"Ladies Scarf\""
   ]
  },
  {
   "cell_type": "code",
   "execution_count": 193,
   "id": "6800be22-eff3-4b4d-8a5f-3f7e212a510a",
   "metadata": {},
   "outputs": [],
   "source": [
    "def description_feature_engineering(desc_string):\n",
    "    # first colour of product\n",
    "    colors = [\"Black\", \"Blue\", \"Dark Green\", \"Brown\", \"Grey\", \"Purple\", \"White\", \"Red\"]\n",
    "    matched_color = None\n",
    "    for color in colors:\n",
    "        if color in desc_string:\n",
    "            matched_color = color\n",
    "            desc_string = desc_string.replace(matched_color, \"\")\n",
    "            break\n",
    "\n",
    "    # gender and age group\n",
    "    matched_gender = None\n",
    "    matched_agegroup = None\n",
    "    if \"Girl\" in desc_string:\n",
    "        matched_gender = \"Female\"\n",
    "        matched_agegroup = \"Girl\"\n",
    "        desc_string = desc_string.replace(matched_agegroup, \"\")\n",
    "    elif \"Ladies\" in desc_string:\n",
    "        matched_gender = \"Female\"\n",
    "        matched_agegroup = \"Ladies\"\n",
    "        desc_string = desc_string.replace(matched_agegroup, \"\")\n",
    "    elif \"Boy\" in desc_string:\n",
    "        matched_gender = \"Male\"\n",
    "        matched_agegroup = \"Boy\"\n",
    "        desc_string = desc_string.replace(matched_agegroup, \"\")\n",
    "    elif \"Mens\" in desc_string:\n",
    "        matched_gender = \"Male\"\n",
    "        matched_agegroup = \"Mens\"\n",
    "        desc_string = desc_string.replace(matched_agegroup, \"\")\n",
    "    elif \"Men\" in desc_string:\n",
    "        matched_gender = \"Male\"\n",
    "        matched_agegroup = \"Mens\"\n",
    "        desc_string = desc_string.replace(matched_agegroup, \"\")\n",
    "\n",
    "    if \"Baby\" in desc_string:\n",
    "        matched_agegroup = \"Baby\"\n",
    "        desc_string = desc_string.replace(matched_agegroup, \"\")\n",
    "    elif \"Child\" in desc_string or \"Kids\" in desc_string or \"Little\" in desc_string:\n",
    "        matched_agegroup = \"Kids\"\n",
    "        desc_string = desc_string.replace(matched_agegroup, \"\")\n",
    "\n",
    "    # company string\n",
    "    companies = [\"Adidas\", \"Ajanta\", \"Cotton Candy\", \"ESSA\", \"Eco Brand\", \"Evo\",\n",
    "                 \"Foggy\", \"Gem\", \"Lux Cozi\", \"Lux Venus\", \"Macho\", \"Nike\", \"Selsia\",\n",
    "                 \"Speed\", \"Stant\", \"Pooja Brand\", \"Brazil\"]\n",
    "    matched_company = None\n",
    "    for company in companies:\n",
    "        if company in desc_string:\n",
    "            matched_company = company\n",
    "            desc_string = desc_string.replace(matched_company, \"\")\n",
    "            break\n",
    "\n",
    "    # category field\n",
    "    categories = [\n",
    "        \"Handkerchief\", \"Socks\", \"Belt\", \"Cap\", \"Dungarees\", \"Frock\", \"Mask\", \"Towel\", \"Bedsheet\",\n",
    "        \"T-Shirt\", \"Shirt\", \"Track Pant\", \"Half Pant\", \"Jeans\", \"Kurta\", \"Panties\",\n",
    "         \"Leggings\", \"Plazo\", \"Underwear\", \"Inner Slips\", \"Hand Gloves\", \"Dupatta\", \"Blouse\", \"Bra\", \"Nighties\",\n",
    "         \"Kurti\", \"Night Dress\", \"Petticoat\", \"Stoles\", \"Scarf\", \"Blanket\", \"Vest\", \"Wallet\", \"Pillow Cover\", \"Lungi\",\n",
    "         \"Mosquito Net\", \"Saree\", \"Sindoor\", \"Set\", \"Cycling Pant\", \"Formal Pant\"\n",
    "    ]\n",
    "    matched_category = None\n",
    "    matched_categories = []  # list as we have to handle more than one case\n",
    "    for category in categories:\n",
    "        if category in desc_string:\n",
    "            matched_categories.append(category)\n",
    "\n",
    "    if len(matched_categories) == 1:\n",
    "        matched_category = matched_categories[0]\n",
    "        desc_string = desc_string.replace(matched_categories[0], \"\")\n",
    "    elif len(matched_categories) == 2:\n",
    "        if \"Set\" in matched_categories:\n",
    "            matched_category = \"Set\"\n",
    "            desc_string = desc_string.replace(matched_category, \"\")\n",
    "        elif \"Jeans\" in matched_categories and \"Shirt\" in matched_categories:\n",
    "            matched_category = \"Shirt\"\n",
    "            desc_string = desc_string.replace(matched_category, \"\")\n",
    "        else:\n",
    "            # handling cases like \"T-Shirt\" both Shirt and T-Shirt is matched\n",
    "            # same for Pant and Panties\n",
    "            bigger_cate = None\n",
    "            smll_cate = None\n",
    "            if len(matched_categories[0]) > len(matched_categories[1]):\n",
    "                bigger_cate = matched_categories[0]\n",
    "                smll_cate = matched_categories[1]\n",
    "            else:\n",
    "                bigger_cate = matched_categories[1]\n",
    "                smll_cate = matched_categories[0]\n",
    "\n",
    "            if smll_cate in bigger_cate:\n",
    "                matched_category = bigger_cate\n",
    "                desc_string = desc_string.replace(matched_category, \"\")\n",
    "    elif len(matched_categories) > 2:\n",
    "        if \"Set\" in matched_categories:\n",
    "            matched_category = \"Set\"\n",
    "            desc_string = desc_string.replace(matched_category, \"\")\n",
    "\n",
    "    # details\n",
    "    cleaned_details = ' '.join(desc_string.split())\n",
    "\n",
    "    return [matched_color, matched_category, matched_company, cleaned_details, matched_gender, matched_agegroup]"
   ]
  },
  {
   "cell_type": "code",
   "execution_count": 174,
   "id": "26636a57-5db6-4fd7-873d-0a5dd8df0c3e",
   "metadata": {},
   "outputs": [],
   "source": [
    "features_df = df['Description'].apply(description_feature_engineering).apply(pd.Series)\n",
    "features_df.columns = [\n",
    "    \"Product_Color\", \"Product_Category\", \"Product_Company\", \"Product_Details\", \"Product_Gender\", \"Product_AgeGroup\"\n",
    "]\n",
    "df = pd.concat([df, features_df], axis=1)"
   ]
  },
  {
   "cell_type": "code",
   "execution_count": 175,
   "id": "3b6921b2-6f75-45a7-a13e-6bdb57ea5f2c",
   "metadata": {},
   "outputs": [
    {
     "data": {
      "text/html": [
       "<div>\n",
       "<style scoped>\n",
       "    .dataframe tbody tr th:only-of-type {\n",
       "        vertical-align: middle;\n",
       "    }\n",
       "\n",
       "    .dataframe tbody tr th {\n",
       "        vertical-align: top;\n",
       "    }\n",
       "\n",
       "    .dataframe thead th {\n",
       "        text-align: right;\n",
       "    }\n",
       "</style>\n",
       "<table border=\"1\" class=\"dataframe\">\n",
       "  <thead>\n",
       "    <tr style=\"text-align: right;\">\n",
       "      <th></th>\n",
       "      <th>InvoiceNo</th>\n",
       "      <th>Description</th>\n",
       "      <th>Size</th>\n",
       "      <th>Quantity</th>\n",
       "      <th>UnitPrice</th>\n",
       "      <th>Selling Price</th>\n",
       "      <th>PaymentMode</th>\n",
       "      <th>PaymentDate</th>\n",
       "      <th>PaymentTime</th>\n",
       "      <th>Product_Color</th>\n",
       "      <th>Product_Category</th>\n",
       "      <th>Product_Company</th>\n",
       "      <th>Product_Details</th>\n",
       "      <th>Product_Gender</th>\n",
       "      <th>Product_AgeGroup</th>\n",
       "    </tr>\n",
       "  </thead>\n",
       "  <tbody>\n",
       "  </tbody>\n",
       "</table>\n",
       "</div>"
      ],
      "text/plain": [
       "Empty DataFrame\n",
       "Columns: [InvoiceNo, Description, Size, Quantity, UnitPrice, Selling Price, PaymentMode, PaymentDate, PaymentTime, Product_Color, Product_Category, Product_Company, Product_Details, Product_Gender, Product_AgeGroup]\n",
       "Index: []"
      ]
     },
     "execution_count": 175,
     "metadata": {},
     "output_type": "execute_result"
    }
   ],
   "source": [
    "df[df[\"Product_Category\"].isna()]"
   ]
  },
  {
   "cell_type": "code",
   "execution_count": 184,
   "id": "0361c6ed-ed91-4ff5-8cbc-77b213704ad7",
   "metadata": {},
   "outputs": [
    {
     "data": {
      "text/html": [
       "<div>\n",
       "<style scoped>\n",
       "    .dataframe tbody tr th:only-of-type {\n",
       "        vertical-align: middle;\n",
       "    }\n",
       "\n",
       "    .dataframe tbody tr th {\n",
       "        vertical-align: top;\n",
       "    }\n",
       "\n",
       "    .dataframe thead th {\n",
       "        text-align: right;\n",
       "    }\n",
       "</style>\n",
       "<table border=\"1\" class=\"dataframe\">\n",
       "  <thead>\n",
       "    <tr style=\"text-align: right;\">\n",
       "      <th></th>\n",
       "      <th>InvoiceNo</th>\n",
       "      <th>Description</th>\n",
       "      <th>Size</th>\n",
       "      <th>Quantity</th>\n",
       "      <th>UnitPrice</th>\n",
       "      <th>Selling Price</th>\n",
       "      <th>PaymentMode</th>\n",
       "      <th>PaymentDate</th>\n",
       "      <th>PaymentTime</th>\n",
       "      <th>Product_Color</th>\n",
       "      <th>Product_Category</th>\n",
       "      <th>Product_Company</th>\n",
       "      <th>Product_Details</th>\n",
       "      <th>Product_Gender</th>\n",
       "      <th>Product_AgeGroup</th>\n",
       "    </tr>\n",
       "  </thead>\n",
       "  <tbody>\n",
       "    <tr>\n",
       "      <th>33</th>\n",
       "      <td>19</td>\n",
       "      <td>Chikankari Mens Kurta</td>\n",
       "      <td>16 Year’ol</td>\n",
       "      <td>1</td>\n",
       "      <td>650</td>\n",
       "      <td>1050</td>\n",
       "      <td>Cash</td>\n",
       "      <td>2025-03-27</td>\n",
       "      <td>19:30</td>\n",
       "      <td>None</td>\n",
       "      <td>Kurta</td>\n",
       "      <td>None</td>\n",
       "      <td>Chikankari</td>\n",
       "      <td>Male</td>\n",
       "      <td>Mens</td>\n",
       "    </tr>\n",
       "  </tbody>\n",
       "</table>\n",
       "</div>"
      ],
      "text/plain": [
       "    InvoiceNo            Description        Size  Quantity  UnitPrice  \\\n",
       "33         19  Chikankari Mens Kurta  16 Year’ol         1        650   \n",
       "\n",
       "    Selling Price PaymentMode PaymentDate PaymentTime Product_Color  \\\n",
       "33           1050        Cash  2025-03-27       19:30          None   \n",
       "\n",
       "   Product_Category Product_Company Product_Details Product_Gender  \\\n",
       "33            Kurta            None      Chikankari           Male   \n",
       "\n",
       "   Product_AgeGroup  \n",
       "33             Mens  "
      ]
     },
     "execution_count": 184,
     "metadata": {},
     "output_type": "execute_result"
    }
   ],
   "source": [
    "df[df[\"Product_Category\"] == \"Kurta\"]"
   ]
  },
  {
   "cell_type": "code",
   "execution_count": 25,
   "id": "523ca414-0eb3-492c-9944-43c031f06723",
   "metadata": {},
   "outputs": [],
   "source": [
    "categories = df[\"Product_Category\"].sort_values().unique()"
   ]
  },
  {
   "cell_type": "code",
   "execution_count": 32,
   "id": "e0eb4002-c0a4-42f9-901b-eb1463c458ba",
   "metadata": {},
   "outputs": [],
   "source": [
    "df.loc[df[\"Product_Category\"] == \"Blanket\", \"Size\"] = \"Single\""
   ]
  },
  {
   "cell_type": "code",
   "execution_count": 37,
   "id": "afc1faa2-b7ca-4f0a-87ff-d2ff8e508f2a",
   "metadata": {},
   "outputs": [],
   "source": [
    "df.loc[df[\"Product_Category\"] == \"Blouse\", \"Size\"] = np.nan"
   ]
  },
  {
   "cell_type": "code",
   "execution_count": 42,
   "id": "61bc4e6d-7c65-4803-a3fe-f0b338f1d0a4",
   "metadata": {},
   "outputs": [],
   "source": [
    "df.loc[364, \"Size\"] = 32"
   ]
  },
  {
   "cell_type": "code",
   "execution_count": 42,
   "id": "5f6793b7-aff4-4682-a78e-ef9b7d7443fb",
   "metadata": {},
   "outputs": [],
   "source": [
    "df.loc[364, \"Size\"] = 32"
   ]
  },
  {
   "cell_type": "code",
   "execution_count": 51,
   "id": "4a50a618-c8ac-4b11-a2d8-94ab776077ea",
   "metadata": {},
   "outputs": [],
   "source": [
    "df.loc[df[\"Description\"] == \"Boxer Cotton Half Pant\", \"Description\"] = \"Half Pant\""
   ]
  },
  {
   "cell_type": "code",
   "execution_count": 52,
   "id": "cc9cf66e-81c0-45b7-aaa2-c013f6d093a5",
   "metadata": {},
   "outputs": [],
   "source": [
    "df.loc[df[\"Description\"] == \"Boxer Half Pant\", \"Description\"] = \"Half Pant\""
   ]
  },
  {
   "cell_type": "code",
   "execution_count": 56,
   "id": "da84c92f-872f-4b2e-aa65-362c01dee610",
   "metadata": {},
   "outputs": [],
   "source": [
    "df.loc[197, \"Selling Price\"] = 360"
   ]
  },
  {
   "cell_type": "code",
   "execution_count": 63,
   "id": "b51cfe25-8cec-4647-8cc5-0a22108b5654",
   "metadata": {},
   "outputs": [],
   "source": [
    "df.loc[df[\"Description\"] == \"Mens Jeans\", \"Description\"] = \"Denim Dusty Mens Jeans\""
   ]
  },
  {
   "cell_type": "code",
   "execution_count": 68,
   "id": "e540ccf0-2674-452d-8d79-3cbdba021c1e",
   "metadata": {},
   "outputs": [],
   "source": [
    "df.loc[363, \"Description\"] = \"Rayon Ladies Sleeveless Kurti\""
   ]
  },
  {
   "cell_type": "code",
   "execution_count": 77,
   "id": "30eed540-6b43-44f4-95b2-2a10c7825729",
   "metadata": {},
   "outputs": [],
   "source": [
    "df.loc[[26, 521], \"Description\"] = \"Lycra Leggings\"\n",
    "df.loc[521, \"Size\"] = \"Free Size\""
   ]
  },
  {
   "cell_type": "code",
   "execution_count": 86,
   "id": "732882ab-a241-4087-afbb-6c12d73364a2",
   "metadata": {},
   "outputs": [],
   "source": [
    "df.loc[518, \"Description\"] = \"Ladies Nighties\""
   ]
  },
  {
   "cell_type": "code",
   "execution_count": 92,
   "id": "a7b001a6-db3b-46a8-91e5-3cff451dd093",
   "metadata": {},
   "outputs": [],
   "source": [
    "df.loc[543, \"Description\"] = \"ESSA Fair Lady Print IE Ladies Panties\""
   ]
  },
  {
   "cell_type": "code",
   "execution_count": 102,
   "id": "e361c4dc-e6c7-4ee0-b463-f38415f48074",
   "metadata": {},
   "outputs": [],
   "source": [
    "df.loc[df[\"Description\"] == \"Mens Shirt\", \"Description\"] = \"Full Sleeves Mens Shirt\""
   ]
  },
  {
   "cell_type": "code",
   "execution_count": 103,
   "id": "d534a4b9-b159-448c-bcf0-660c95eaa59c",
   "metadata": {},
   "outputs": [],
   "source": [
    "df.loc[[30, 166], \"Description\"] = \"Black Full Sleeves Mens Shirt\""
   ]
  },
  {
   "cell_type": "code",
   "execution_count": 108,
   "id": "5608089d-6148-4d2c-8857-3e6b6550f6db",
   "metadata": {},
   "outputs": [],
   "source": [
    "df.loc[[14], \"Description\"] = \"Ankle Length 1 Pair Black Men Socks\""
   ]
  },
  {
   "cell_type": "code",
   "execution_count": 114,
   "id": "29763869-b3c0-4034-ab7b-02ef829809cb",
   "metadata": {},
   "outputs": [],
   "source": [
    "df.loc[df[\"Description\"] == \"Bath Towel\", \"Description\"] = \"Gamcha Bath Towel\""
   ]
  },
  {
   "cell_type": "code",
   "execution_count": 118,
   "id": "58849402-0cc1-4235-9e46-4676d4c52eb1",
   "metadata": {},
   "outputs": [],
   "source": [
    "df.loc[[8], \"Description\"] = \"Track Pant\""
   ]
  },
  {
   "cell_type": "code",
   "execution_count": 64,
   "id": "572f45d4-b28b-4e60-8db6-6718ddf9acb9",
   "metadata": {},
   "outputs": [
    {
     "data": {
      "text/plain": [
       "array(['Bedsheet', 'Belt', 'Blanket', 'Blouse', 'Bra', 'Cap', 'Dungarees',\n",
       "       'Dupatta', 'Frock', 'Half Pant', 'Hand Gloves', 'Handkerchief',\n",
       "       'Inner Slips', 'Jeans', 'Kurta', 'Kurti', 'Leggings', 'Lungi',\n",
       "       'Mask', 'Mosquito Net', 'Night Dress', 'Nighties', 'Pant',\n",
       "       'Panties', 'Petticoat', 'Pillow Cover', 'Plazo', 'Saree', 'Scarf',\n",
       "       'Set', 'Shirt', 'Sindoor', 'Socks', 'Stoles', 'T-Shirt', 'Towel',\n",
       "       'Track Pant', 'Underwear', 'Vest', 'Wallet'], dtype=object)"
      ]
     },
     "execution_count": 64,
     "metadata": {},
     "output_type": "execute_result"
    }
   ],
   "source": [
    "categories"
   ]
  },
  {
   "cell_type": "code",
   "execution_count": 134,
   "id": "1d6dd586-d237-4b8f-a043-1590fb70078d",
   "metadata": {},
   "outputs": [
    {
     "data": {
      "text/plain": [
       "Index(['InvoiceNo', 'Description', 'Size', 'Quantity', 'UnitPrice',\n",
       "       'Selling Price', 'PaymentMode', 'PaymentDate', 'PaymentTime',\n",
       "       'Product_Color', 'Product_Category', 'Product_Company',\n",
       "       'Product_Details', 'Product_Gender', 'Product_AgeGroup'],\n",
       "      dtype='object')"
      ]
     },
     "execution_count": 134,
     "metadata": {},
     "output_type": "execute_result"
    }
   ],
   "source": [
    "df.columns"
   ]
  },
  {
   "cell_type": "code",
   "execution_count": 137,
   "id": "c9b46244-e9e3-4483-aa1e-66ff37f1e2a8",
   "metadata": {},
   "outputs": [],
   "source": [
    "df[\n",
    "    [\"InvoiceNo\", \"Description\", \"Size\", \"Quantity\", \"UnitPrice\", \"Selling Price\", \"PaymentMode\", \"PaymentDate\", \"PaymentTime\"]\n",
    "].to_csv(\"final_data.csv\", index=False)"
   ]
  },
  {
   "cell_type": "code",
   "execution_count": 185,
   "id": "1c856e7d-1156-4149-834e-c1c460269cf2",
   "metadata": {},
   "outputs": [],
   "source": [
    "final_df = pd.read_csv(\"final_data.csv\")"
   ]
  },
  {
   "cell_type": "code",
   "execution_count": 187,
   "id": "343f68a2-270a-44a3-8169-426f77615a8f",
   "metadata": {},
   "outputs": [],
   "source": [
    "final_df.loc[33, \"Description\"] = \"Chikankari Mens Kurta Pajama\""
   ]
  },
  {
   "cell_type": "code",
   "execution_count": 189,
   "id": "2db2f816-35e0-4a11-8410-593fc5a5932b",
   "metadata": {},
   "outputs": [
    {
     "data": {
      "text/plain": [
       "InvoiceNo                                  19\n",
       "Description      Chikankari Mens Kurta Pajama\n",
       "Size                               16 Year’ol\n",
       "Quantity                                    1\n",
       "UnitPrice                                 650\n",
       "Selling Price                            1050\n",
       "PaymentMode                              Cash\n",
       "PaymentDate                        2025-03-27\n",
       "PaymentTime                             19:30\n",
       "Name: 33, dtype: object"
      ]
     },
     "execution_count": 189,
     "metadata": {},
     "output_type": "execute_result"
    }
   ],
   "source": [
    "final_df.loc[33]"
   ]
  },
  {
   "cell_type": "code",
   "execution_count": 161,
   "id": "1919f09d-86be-4a6b-b5ac-a3f2d94e6bef",
   "metadata": {},
   "outputs": [],
   "source": [
    "final_df.loc[final_df[\"Description\"] == \"Formal Black Mens Pant\", \"Description\"] = \"Black Mens Formal Pant\""
   ]
  },
  {
   "cell_type": "code",
   "execution_count": 163,
   "id": "caf94ceb-16c6-40cf-9b4f-17b195269c81",
   "metadata": {},
   "outputs": [],
   "source": [
    "final_df.loc[final_df[\"Description\"] == \"Formal Grey Mens Pant\", \"Description\"] = \"Grey Mens Formal Pant\""
   ]
  },
  {
   "cell_type": "code",
   "execution_count": 165,
   "id": "3ca279f7-29ef-441c-a196-6b70996eaced",
   "metadata": {},
   "outputs": [],
   "source": [
    "final_df.loc[final_df[\"Description\"] == \"Formal Mens Pant\", \"Description\"] = \"Mens Formal Pant\""
   ]
  },
  {
   "cell_type": "code",
   "execution_count": 177,
   "id": "4554d633-d27a-473b-bbbd-e2dd812e99b5",
   "metadata": {},
   "outputs": [],
   "source": [
    "final_df.loc[final_df[\"Description\"] == \"Brown Formal Cotton Mens Pant\", \"Description\"] = \"Brown Mens Formal Pant\""
   ]
  },
  {
   "cell_type": "code",
   "execution_count": 190,
   "id": "c5888cf7-96b6-4ad1-a1bf-c7893391b6f5",
   "metadata": {},
   "outputs": [],
   "source": [
    "final_df[\n",
    "    [\"InvoiceNo\", \"Description\", \"Size\", \"Quantity\", \"UnitPrice\", \"Selling Price\", \"PaymentMode\", \"PaymentDate\", \"PaymentTime\"]\n",
    "].to_csv(\"final_data.csv\", index=False)"
   ]
  },
  {
   "cell_type": "code",
   "execution_count": 198,
   "id": "7af24c34-82d8-4a09-bb54-dd7fee1e4280",
   "metadata": {},
   "outputs": [],
   "source": [
    "final_df = pd.read_csv(\"final_data.csv\")"
   ]
  },
  {
   "cell_type": "code",
   "execution_count": 199,
   "id": "f00b4cbc-97e2-484c-bc56-6db3ea3d9bcf",
   "metadata": {},
   "outputs": [],
   "source": [
    "features_df = final_df['Description'].apply(description_feature_engineering).apply(pd.Series)\n",
    "features_df.columns = [\n",
    "    \"Product_Color\", \"Product_Category\", \"Product_Company\", \"Product_Details\", \"Product_Gender\", \"Product_AgeGroup\"\n",
    "]\n",
    "final_df = pd.concat([final_df, features_df], axis=1)"
   ]
  },
  {
   "cell_type": "code",
   "execution_count": 200,
   "id": "84e54bda-f9c2-4705-91f9-9abdb4b3f7c8",
   "metadata": {},
   "outputs": [
    {
     "data": {
      "text/html": [
       "<div>\n",
       "<style scoped>\n",
       "    .dataframe tbody tr th:only-of-type {\n",
       "        vertical-align: middle;\n",
       "    }\n",
       "\n",
       "    .dataframe tbody tr th {\n",
       "        vertical-align: top;\n",
       "    }\n",
       "\n",
       "    .dataframe thead th {\n",
       "        text-align: right;\n",
       "    }\n",
       "</style>\n",
       "<table border=\"1\" class=\"dataframe\">\n",
       "  <thead>\n",
       "    <tr style=\"text-align: right;\">\n",
       "      <th></th>\n",
       "      <th>InvoiceNo</th>\n",
       "      <th>Description</th>\n",
       "      <th>Size</th>\n",
       "      <th>Quantity</th>\n",
       "      <th>UnitPrice</th>\n",
       "      <th>Selling Price</th>\n",
       "      <th>PaymentMode</th>\n",
       "      <th>PaymentDate</th>\n",
       "      <th>PaymentTime</th>\n",
       "      <th>Product_Color</th>\n",
       "      <th>Product_Category</th>\n",
       "      <th>Product_Company</th>\n",
       "      <th>Product_Details</th>\n",
       "      <th>Product_Gender</th>\n",
       "      <th>Product_AgeGroup</th>\n",
       "    </tr>\n",
       "  </thead>\n",
       "  <tbody>\n",
       "    <tr>\n",
       "      <th>490</th>\n",
       "      <td>337</td>\n",
       "      <td>Ladies Cycling Pant</td>\n",
       "      <td>90</td>\n",
       "      <td>1</td>\n",
       "      <td>100</td>\n",
       "      <td>125</td>\n",
       "      <td>Cash</td>\n",
       "      <td>2025-04-20</td>\n",
       "      <td>19:40</td>\n",
       "      <td>None</td>\n",
       "      <td>Cycling Pant</td>\n",
       "      <td>None</td>\n",
       "      <td></td>\n",
       "      <td>Female</td>\n",
       "      <td>Ladies</td>\n",
       "    </tr>\n",
       "  </tbody>\n",
       "</table>\n",
       "</div>"
      ],
      "text/plain": [
       "     InvoiceNo          Description Size  Quantity  UnitPrice  Selling Price  \\\n",
       "490        337  Ladies Cycling Pant   90         1        100            125   \n",
       "\n",
       "    PaymentMode PaymentDate PaymentTime Product_Color Product_Category  \\\n",
       "490        Cash  2025-04-20       19:40          None     Cycling Pant   \n",
       "\n",
       "    Product_Company Product_Details Product_Gender Product_AgeGroup  \n",
       "490            None                         Female           Ladies  "
      ]
     },
     "execution_count": 200,
     "metadata": {},
     "output_type": "execute_result"
    }
   ],
   "source": [
    "final_df[final_df[\"Product_Category\"] == \"Cycling Pant\"]"
   ]
  }
 ],
 "metadata": {
  "kernelspec": {
   "display_name": "6rt_analysis",
   "language": "python",
   "name": "6rt_analysis"
  },
  "language_info": {
   "codemirror_mode": {
    "name": "ipython",
    "version": 3
   },
   "file_extension": ".py",
   "mimetype": "text/x-python",
   "name": "python",
   "nbconvert_exporter": "python",
   "pygments_lexer": "ipython3",
   "version": "3.10.12"
  }
 },
 "nbformat": 4,
 "nbformat_minor": 5
}
