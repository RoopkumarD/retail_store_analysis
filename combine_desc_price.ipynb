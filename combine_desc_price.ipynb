{
 "cells": [
  {
   "cell_type": "code",
   "execution_count": 1,
   "id": "a3a98150-26ce-4f10-899e-613e3b517a6d",
   "metadata": {},
   "outputs": [],
   "source": [
    "import pandas as pd"
   ]
  },
  {
   "cell_type": "code",
   "execution_count": 2,
   "id": "acf2b59d-2a99-4c21-985b-1fa37cc9a19f",
   "metadata": {},
   "outputs": [],
   "source": [
    "df = pd.read_csv(\"final_data.csv\")"
   ]
  },
  {
   "cell_type": "code",
   "execution_count": 6,
   "id": "a91c5fcb-b495-43cc-b75c-7680f956c607",
   "metadata": {},
   "outputs": [],
   "source": [
    "df[\"Description\"] = df[\"Selling Price\"].astype(str) + \" \" + df[\"Description\"]"
   ]
  },
  {
   "cell_type": "code",
   "execution_count": 9,
   "id": "86965df9-f27d-4ef1-a9c7-d9782fcf9246",
   "metadata": {},
   "outputs": [
    {
     "data": {
      "text/html": [
       "<div>\n",
       "<style scoped>\n",
       "    .dataframe tbody tr th:only-of-type {\n",
       "        vertical-align: middle;\n",
       "    }\n",
       "\n",
       "    .dataframe tbody tr th {\n",
       "        vertical-align: top;\n",
       "    }\n",
       "\n",
       "    .dataframe thead th {\n",
       "        text-align: right;\n",
       "    }\n",
       "</style>\n",
       "<table border=\"1\" class=\"dataframe\">\n",
       "  <thead>\n",
       "    <tr style=\"text-align: right;\">\n",
       "      <th></th>\n",
       "      <th>InvoiceNo</th>\n",
       "      <th>Description</th>\n",
       "      <th>Size</th>\n",
       "      <th>Quantity</th>\n",
       "      <th>UnitPrice</th>\n",
       "      <th>Selling Price</th>\n",
       "      <th>PaymentMode</th>\n",
       "      <th>PaymentDate</th>\n",
       "      <th>PaymentTime</th>\n",
       "    </tr>\n",
       "  </thead>\n",
       "  <tbody>\n",
       "    <tr>\n",
       "      <th>0</th>\n",
       "      <td>1</td>\n",
       "      <td>560 Dark Green Half Sleeves Polo Mens T-Shirt</td>\n",
       "      <td>XL</td>\n",
       "      <td>1</td>\n",
       "      <td>400</td>\n",
       "      <td>560</td>\n",
       "      <td>Online</td>\n",
       "      <td>2025-03-25</td>\n",
       "      <td>12:31</td>\n",
       "    </tr>\n",
       "    <tr>\n",
       "      <th>1</th>\n",
       "      <td>1</td>\n",
       "      <td>1200 Blue Faded Mens Jeans</td>\n",
       "      <td>30</td>\n",
       "      <td>1</td>\n",
       "      <td>900</td>\n",
       "      <td>1200</td>\n",
       "      <td>Online</td>\n",
       "      <td>2025-03-25</td>\n",
       "      <td>12:31</td>\n",
       "    </tr>\n",
       "    <tr>\n",
       "      <th>2</th>\n",
       "      <td>2</td>\n",
       "      <td>140 Gamcha Bath Towel</td>\n",
       "      <td>90</td>\n",
       "      <td>1</td>\n",
       "      <td>140</td>\n",
       "      <td>140</td>\n",
       "      <td>Cash</td>\n",
       "      <td>2025-03-25</td>\n",
       "      <td>15:30</td>\n",
       "    </tr>\n",
       "    <tr>\n",
       "      <th>3</th>\n",
       "      <td>3</td>\n",
       "      <td>135 Macho V Cut Mens Underwear</td>\n",
       "      <td>90</td>\n",
       "      <td>1</td>\n",
       "      <td>125</td>\n",
       "      <td>135</td>\n",
       "      <td>Online</td>\n",
       "      <td>2025-03-25</td>\n",
       "      <td>16:13</td>\n",
       "    </tr>\n",
       "    <tr>\n",
       "      <th>4</th>\n",
       "      <td>4</td>\n",
       "      <td>180 Rectangle Mosquito Net</td>\n",
       "      <td>6x6</td>\n",
       "      <td>1</td>\n",
       "      <td>150</td>\n",
       "      <td>180</td>\n",
       "      <td>Cash</td>\n",
       "      <td>2025-03-25</td>\n",
       "      <td>13:00</td>\n",
       "    </tr>\n",
       "  </tbody>\n",
       "</table>\n",
       "</div>"
      ],
      "text/plain": [
       "   InvoiceNo                                    Description Size  Quantity  \\\n",
       "0          1  560 Dark Green Half Sleeves Polo Mens T-Shirt   XL         1   \n",
       "1          1                     1200 Blue Faded Mens Jeans   30         1   \n",
       "2          2                          140 Gamcha Bath Towel   90         1   \n",
       "3          3                 135 Macho V Cut Mens Underwear   90         1   \n",
       "4          4                     180 Rectangle Mosquito Net  6x6         1   \n",
       "\n",
       "   UnitPrice  Selling Price PaymentMode PaymentDate PaymentTime  \n",
       "0        400            560      Online  2025-03-25       12:31  \n",
       "1        900           1200      Online  2025-03-25       12:31  \n",
       "2        140            140        Cash  2025-03-25       15:30  \n",
       "3        125            135      Online  2025-03-25       16:13  \n",
       "4        150            180        Cash  2025-03-25       13:00  "
      ]
     },
     "execution_count": 9,
     "metadata": {},
     "output_type": "execute_result"
    }
   ],
   "source": [
    "df.head()"
   ]
  },
  {
   "cell_type": "code",
   "execution_count": 10,
   "id": "7c810ae3-3a4c-4bed-a3eb-03c0dad5ed80",
   "metadata": {},
   "outputs": [],
   "source": [
    "df = df.drop(columns=[\"Selling Price\"])"
   ]
  },
  {
   "cell_type": "code",
   "execution_count": 14,
   "id": "b128ec6e-feea-4c9a-9f38-9f37ff7ab7a2",
   "metadata": {},
   "outputs": [],
   "source": [
    "df.to_csv(\"store_data.csv\", index=False)"
   ]
  }
 ],
 "metadata": {
  "kernelspec": {
   "display_name": "6rt_analysis",
   "language": "python",
   "name": "6rt_analysis"
  },
  "language_info": {
   "codemirror_mode": {
    "name": "ipython",
    "version": 3
   },
   "file_extension": ".py",
   "mimetype": "text/x-python",
   "name": "python",
   "nbconvert_exporter": "python",
   "pygments_lexer": "ipython3",
   "version": "3.10.12"
  }
 },
 "nbformat": 4,
 "nbformat_minor": 5
}
