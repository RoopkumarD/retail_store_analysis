{
 "cells": [
  {
   "cell_type": "code",
   "execution_count": 93,
   "id": "7c160662-90d0-4481-8126-a53407b99121",
   "metadata": {},
   "outputs": [],
   "source": [
    "import pandas as pd"
   ]
  },
  {
   "cell_type": "code",
   "execution_count": 94,
   "id": "5efa3ec2-df48-443b-a7bb-465f6e12e398",
   "metadata": {},
   "outputs": [],
   "source": [
    "df = pd.read_csv(\"data.csv\")"
   ]
  },
  {
   "cell_type": "markdown",
   "id": "460cc1fe-e920-4e54-a054-c8c05f69fa97",
   "metadata": {},
   "source": [
    "**Schema**\n",
    "\n",
    "- T-Shirt & Shirt: Company | Colour | Sleeves | Collar | Type of Fabric\n",
    "- Jeans: Colour | Type of Jeans\n",
    "- Underwear: Company | Type of Underwear (long, mini, etc)\n",
    "- Vest: Company | Sleeve Type"
   ]
  },
  {
   "cell_type": "code",
   "execution_count": 95,
   "id": "ea7aa3e5-7e36-46d0-a135-8d48750c51d5",
   "metadata": {},
   "outputs": [],
   "source": [
    "# T-Shirt\n",
    "\n",
    "replace_dict = {\n",
    "    \"Polyester Collar T-Shirt\": \"Collar Polyester Mens T-Shirt\",\n",
    "    \"Cotton Candy T-Shirt\": \"Cotton Candy Half Sleeves Round Neck Cotton Mens T-Shirt\",\n",
    "    \"Black Cotton Round Neck T-Shirt\": \"Cotton Candy Black Half Sleeves Round Neck Cotton Mens T-Shirt\",\n",
    "    \"Foggy Half Sleeves Collar T-Shirt\": \"Foggy Half Sleeves Polo Cotton Mens T-Shirt\",\n",
    "    \"Round Neck Half Sleeves T-Shirt\": \"Half Sleeves Round Neck Mens T-Shirt\",\n",
    "    \"Ladies Cotton Candy T-Shirt\": \"Cotton Candy Half Sleeves Round Neck Cotton Ladies T-Shirt\",\n",
    "    \"Cotton Candy Mens T-Shirt\": \"Cotton Candy Half Sleeves Round Neck Cotton Mens T-Shirt\",\n",
    "    \"Round Neck Half Sleeves Sports T-Shirt\": \"Half Sleeves Round Neck Sports Mens T-Shirt\",\n",
    "    \"Round Neck Half Sleeves Black T-Shirt\": \"Black Half Sleeves Round Neck Mens T-Shirt\",\n",
    "    \"Ladies Round Neck Half Sleeves T-Shirt\": \"Half Sleeves Round Neck Ladies T-Shirt\",\n",
    "    \"Round Neck Half Sleeves Cotton T-Shirt\": \"Half Sleeves Round Neck Cotton Mens T-Shirt\",\n",
    "}\n",
    "\n",
    "df[\"Description\"] = df[\"Description\"].replace(replace_dict)"
   ]
  },
  {
   "cell_type": "code",
   "execution_count": 96,
   "id": "188f6ac1-8492-4d55-a30f-e28b0e47515e",
   "metadata": {},
   "outputs": [],
   "source": [
    "# Jeans\n",
    "\n",
    "replace_dict = {\n",
    "    \"Faded Blue Jeans\": \"Blue Faded Mens Jeans\",\n",
    "    \"Cargo Jeans\": \"Cargo Mens Jeans\",\n",
    "    \"Denim Dusty Jeans\": \"Denim Dusty Mens Jeans\",\n",
    "    \"Formal Chocolate Colour Cotton Jeans\": \"Brown Formal Cotton Mens Pant\",\n",
    "    \"Cotton Jeans\": \"Mens Jeans\",\n",
    "    \"Cotton Mens Jeans\": \"Mens Jeans\"\n",
    "}\n",
    "\n",
    "df[\"Description\"] = df[\"Description\"].replace(replace_dict)"
   ]
  },
  {
   "cell_type": "code",
   "execution_count": 97,
   "id": "ad2c7796-27b1-45c4-8c06-222c296ffbea",
   "metadata": {},
   "outputs": [],
   "source": [
    "# Underwear\n",
    "\n",
    "replace_dict = {\n",
    "    \"V cut Macho Mens Underwear\": \"Macho V Cut Mens Underwear\",\n",
    "    \"Speed Cross Polo Long Trunk Mens Underwear\": \"Speed Long Trunk Mens Underwear\",\n",
    "    \"Stant Neu Printed Lycra Semi Long Mens Underwear\": \"Stant Printed Lycra Semi Long Mens Underwear\",\n",
    "    \"Stant Best Shot Long Trunk Mens Underwear\": \"Stant Long Trunk Mens Underwear\",\n",
    "    \"Speed Mini Cut Trunk Mens Underwear\": \"Speed Mini Trunk Mens Underwear\"\n",
    "}\n",
    "\n",
    "df[\"Description\"] = df[\"Description\"].replace(replace_dict)"
   ]
  },
  {
   "cell_type": "code",
   "execution_count": 98,
   "id": "326207a7-c194-4ae6-9b7a-bfd2c89c6323",
   "metadata": {},
   "outputs": [],
   "source": [
    "# Vest\n",
    "\n",
    "replace_dict = {\n",
    "    \"Sando Sleeveless Mens Vest\": \"Sando Mens Vest\",\n",
    "    \"Lux Venus Colour Mens Vest\": \"Lux Venus Mens Vest\",\n",
    "    \"Speed Mens Gym Vest\": \"Speed Gym Mens Vest\",\n",
    "    \"Lux Venus White Half Sleeves Inner Mens Vest\": \"Lux Venus Half Sleeves Mens Vest\",\n",
    "    \"Nike Black Sando Sleeveless Mens Vest\": \"Nike Black Sando Mens Vest\",\n",
    "}\n",
    "\n",
    "df[\"Description\"] = df[\"Description\"].replace(replace_dict)"
   ]
  },
  {
   "cell_type": "code",
   "execution_count": 99,
   "id": "f3fd7326-a256-4655-b432-189727caade3",
   "metadata": {},
   "outputs": [],
   "source": [
    "# Frock\n",
    "\n",
    "replace_dict = {\n",
    "    \"Little Girl Designer Frock\": \"Girl Child Frock\",\n",
    "    \"Baby Girl Cotton Frock\": \"Girl Child Frock\"\n",
    "}\n",
    "\n",
    "df[\"Description\"] = df[\"Description\"].replace(replace_dict)"
   ]
  },
  {
   "cell_type": "code",
   "execution_count": 100,
   "id": "1227defd-2450-4f38-8b87-78a62648b30f",
   "metadata": {},
   "outputs": [],
   "source": [
    "# Set and Socks\n",
    "\n",
    "replace_dict = {\n",
    "    \"Adidas 3 Set Men Socks\": \"Ankle Length 3 Pair Mens Socks\",\n",
    "    \"Adidas 3 Set Men Socks\": \"Ankle Length 3 Pair Mens Socks\"\n",
    "}\n",
    "\n",
    "df[\"Description\"] = df[\"Description\"].replace(replace_dict)"
   ]
  },
  {
   "cell_type": "code",
   "execution_count": 102,
   "id": "5167fa19-7423-43ef-808c-98b0015c142f",
   "metadata": {},
   "outputs": [],
   "source": [
    "df.to_csv(\"data.csv\", index=False)"
   ]
  }
 ],
 "metadata": {
  "kernelspec": {
   "display_name": "6rt_analysis",
   "language": "python",
   "name": "6rt_analysis"
  },
  "language_info": {
   "codemirror_mode": {
    "name": "ipython",
    "version": 3
   },
   "file_extension": ".py",
   "mimetype": "text/x-python",
   "name": "python",
   "nbconvert_exporter": "python",
   "pygments_lexer": "ipython3",
   "version": "3.10.12"
  }
 },
 "nbformat": 4,
 "nbformat_minor": 5
}
